{
  "nbformat": 4,
  "nbformat_minor": 0,
  "metadata": {
    "colab": {
      "name": "Machine Learning Week 3 Cont'd.ipynb",
      "provenance": [],
      "collapsed_sections": [],
      "authorship_tag": "ABX9TyM4v822BoJPaD5OoQ912vPh",
      "include_colab_link": true
    },
    "kernelspec": {
      "name": "python3",
      "display_name": "Python 3"
    },
    "language_info": {
      "name": "python"
    }
  },
  "cells": [
    {
      "cell_type": "markdown",
      "metadata": {
        "id": "view-in-github",
        "colab_type": "text"
      },
      "source": [
        "<a href=\"https://colab.research.google.com/github/TabithaWKariuki/Machine-Learning-Week-3/blob/main/Machine_Learning_Week_3_Cont'd.ipynb\" target=\"_parent\"><img src=\"https://colab.research.google.com/assets/colab-badge.svg\" alt=\"Open In Colab\"/></a>"
      ]
    },
    {
      "cell_type": "markdown",
      "source": [
        "# Nairobi Hospital Clinical Camp Continued"
      ],
      "metadata": {
        "id": "ouu663ojUZtt"
      }
    },
    {
      "cell_type": "code",
      "execution_count": 1,
      "metadata": {
        "id": "S1XzmFXXJlij"
      },
      "outputs": [],
      "source": [
        "# Importing all neccessary libraries. \n",
        "\n",
        "import pandas as pd\n",
        "import numpy as np\n",
        "import matplotlib.pyplot as plt\n",
        "import seaborn as sns\n",
        "from sklearn.tree import DecisionTreeClassifier\n",
        "from sklearn.ensemble import AdaBoostClassifier\n",
        "from sklearn.ensemble import GradientBoostingClassifier\n",
        "from sklearn.ensemble import RandomForestClassifier\n",
        "from sklearn.svm import SVC\n",
        "from sklearn.model_selection import train_test_split\n",
        "from sklearn.metrics import mean_absolute_error,mean_squared_error, accuracy_score, classification_report, f1_score,r2_score\n",
        "import warnings\n",
        "warnings.filterwarnings(\"ignore\")"
      ]
    },
    {
      "cell_type": "code",
      "source": [
        "# Loading my cleaned data\n",
        "\n",
        "hypo=pd.read_csv('CleanHypo.csv')"
      ],
      "metadata": {
        "id": "Dpm0brV2L9KK"
      },
      "execution_count": 3,
      "outputs": []
    },
    {
      "cell_type": "code",
      "source": [
        "# dropping unnecessary colums\n",
        "\n",
        "thyroid = hypo.drop(columns=['TSH_measured', 'T3_measured', 'TT4_measured', 'T4U_measured', 'FTI_measured', 'TBG_measured'])"
      ],
      "metadata": {
        "id": "HyuEHBuCMjTf"
      },
      "execution_count": 4,
      "outputs": []
    },
    {
      "cell_type": "code",
      "source": [
        "# checking the datatypes \n",
        "\n",
        "thyroid.dtypes"
      ],
      "metadata": {
        "colab": {
          "base_uri": "https://localhost:8080/"
        },
        "id": "dJepnqMrMpRS",
        "outputId": "2eab6c1a-17b8-48af-b6ba-20c5ffed569e"
      },
      "execution_count": 5,
      "outputs": [
        {
          "output_type": "execute_result",
          "data": {
            "text/plain": [
              "Unnamed: 0                     int64\n",
              "status                        object\n",
              "age                            int64\n",
              "sex                           object\n",
              "on_thyroxine                  object\n",
              "query_on_thyroxine            object\n",
              "on_antithyroid_medication     object\n",
              "thyroid_surgery               object\n",
              "query_hypothyroid             object\n",
              "query_hyperthyroid            object\n",
              "pregnant                      object\n",
              "sick                          object\n",
              "tumor                         object\n",
              "lithium                       object\n",
              "goitre                        object\n",
              "TSH                          float64\n",
              "T3                           float64\n",
              "TT4                          float64\n",
              "T4U                          float64\n",
              "FTI                          float64\n",
              "TBG                          float64\n",
              "dtype: object"
            ]
          },
          "metadata": {},
          "execution_count": 5
        }
      ]
    },
    {
      "cell_type": "code",
      "source": [
        "# Converting categorical variables to numerical variables\n",
        "\n",
        "from sklearn.preprocessing import LabelEncoder\n",
        "\n",
        "label_encoder = LabelEncoder()\n",
        "\n",
        "thyroid['status'] = label_encoder.fit_transform(thyroid['status'])\n",
        "thyroid['on_thyroxine'] = label_encoder.fit_transform(thyroid['on_thyroxine'])\n",
        "thyroid['query_on_thyroxine'] = label_encoder.fit_transform(thyroid['query_on_thyroxine'])\n",
        "thyroid['on_antithyroid_medication'] = label_encoder.fit_transform(thyroid['on_antithyroid_medication'])\n",
        "thyroid['thyroid_surgery'] = label_encoder.fit_transform(thyroid['thyroid_surgery'])\n",
        "thyroid['query_hypothyroid'] = label_encoder.fit_transform(thyroid['query_hypothyroid'])\n",
        "thyroid['query_hyperthyroid'] = label_encoder.fit_transform(thyroid['query_hyperthyroid'])\n",
        "thyroid['pregnant'] = label_encoder.fit_transform(thyroid['pregnant'])\n",
        "thyroid['sick'] = label_encoder.fit_transform(thyroid['sick'])\n",
        "thyroid['tumor'] = label_encoder.fit_transform(thyroid['tumor'])\n",
        "thyroid['lithium'] = label_encoder.fit_transform(thyroid['lithium'])\n",
        "thyroid['goitre'] = label_encoder.fit_transform(thyroid['goitre'])"
      ],
      "metadata": {
        "id": "KjIH8B96Mwbm"
      },
      "execution_count": 6,
      "outputs": []
    },
    {
      "cell_type": "code",
      "source": [
        "# Converting Male and Female values in the sex column to numerical values using the map function.\n",
        "\n",
        "thyroid['sex'] =thyroid['sex'].map({'M':1, 'F':2})"
      ],
      "metadata": {
        "id": "VpWzHzclM0Lc"
      },
      "execution_count": 7,
      "outputs": []
    },
    {
      "cell_type": "code",
      "source": [
        "# Previewing our data \n",
        "\n",
        "thyroid.head(3)"
      ],
      "metadata": {
        "colab": {
          "base_uri": "https://localhost:8080/",
          "height": 254
        },
        "id": "I13osLj9M4vs",
        "outputId": "cf74dc29-c9ee-4222-c464-dd719d18e36f"
      },
      "execution_count": 8,
      "outputs": [
        {
          "output_type": "execute_result",
          "data": {
            "text/plain": [
              "   Unnamed: 0  status  age  sex  on_thyroxine  query_on_thyroxine  \\\n",
              "0           0       0   72  1.0             0                   0   \n",
              "1           1       0   15  2.0             1                   0   \n",
              "2           2       0   24  1.0             0                   0   \n",
              "\n",
              "   on_antithyroid_medication  thyroid_surgery  query_hypothyroid  \\\n",
              "0                          0                0                  0   \n",
              "1                          0                0                  0   \n",
              "2                          0                0                  0   \n",
              "\n",
              "   query_hyperthyroid  ...  sick  tumor  lithium  goitre    TSH   T3   TT4  \\\n",
              "0                   0  ...     0      0        0       0   30.0  0.6  15.0   \n",
              "1                   0  ...     0      0        0       0  145.0  1.7  19.0   \n",
              "2                   0  ...     0      0        0       0    0.0  0.2   4.0   \n",
              "\n",
              "    T4U   FTI  TBG  \n",
              "0  1.48  10.0  0.0  \n",
              "1  1.13  17.0  0.0  \n",
              "2  1.00   0.0  0.0  \n",
              "\n",
              "[3 rows x 21 columns]"
            ],
            "text/html": [
              "\n",
              "  <div id=\"df-ad650fd9-7c66-4755-8568-aa7de2fbde12\">\n",
              "    <div class=\"colab-df-container\">\n",
              "      <div>\n",
              "<style scoped>\n",
              "    .dataframe tbody tr th:only-of-type {\n",
              "        vertical-align: middle;\n",
              "    }\n",
              "\n",
              "    .dataframe tbody tr th {\n",
              "        vertical-align: top;\n",
              "    }\n",
              "\n",
              "    .dataframe thead th {\n",
              "        text-align: right;\n",
              "    }\n",
              "</style>\n",
              "<table border=\"1\" class=\"dataframe\">\n",
              "  <thead>\n",
              "    <tr style=\"text-align: right;\">\n",
              "      <th></th>\n",
              "      <th>Unnamed: 0</th>\n",
              "      <th>status</th>\n",
              "      <th>age</th>\n",
              "      <th>sex</th>\n",
              "      <th>on_thyroxine</th>\n",
              "      <th>query_on_thyroxine</th>\n",
              "      <th>on_antithyroid_medication</th>\n",
              "      <th>thyroid_surgery</th>\n",
              "      <th>query_hypothyroid</th>\n",
              "      <th>query_hyperthyroid</th>\n",
              "      <th>...</th>\n",
              "      <th>sick</th>\n",
              "      <th>tumor</th>\n",
              "      <th>lithium</th>\n",
              "      <th>goitre</th>\n",
              "      <th>TSH</th>\n",
              "      <th>T3</th>\n",
              "      <th>TT4</th>\n",
              "      <th>T4U</th>\n",
              "      <th>FTI</th>\n",
              "      <th>TBG</th>\n",
              "    </tr>\n",
              "  </thead>\n",
              "  <tbody>\n",
              "    <tr>\n",
              "      <th>0</th>\n",
              "      <td>0</td>\n",
              "      <td>0</td>\n",
              "      <td>72</td>\n",
              "      <td>1.0</td>\n",
              "      <td>0</td>\n",
              "      <td>0</td>\n",
              "      <td>0</td>\n",
              "      <td>0</td>\n",
              "      <td>0</td>\n",
              "      <td>0</td>\n",
              "      <td>...</td>\n",
              "      <td>0</td>\n",
              "      <td>0</td>\n",
              "      <td>0</td>\n",
              "      <td>0</td>\n",
              "      <td>30.0</td>\n",
              "      <td>0.6</td>\n",
              "      <td>15.0</td>\n",
              "      <td>1.48</td>\n",
              "      <td>10.0</td>\n",
              "      <td>0.0</td>\n",
              "    </tr>\n",
              "    <tr>\n",
              "      <th>1</th>\n",
              "      <td>1</td>\n",
              "      <td>0</td>\n",
              "      <td>15</td>\n",
              "      <td>2.0</td>\n",
              "      <td>1</td>\n",
              "      <td>0</td>\n",
              "      <td>0</td>\n",
              "      <td>0</td>\n",
              "      <td>0</td>\n",
              "      <td>0</td>\n",
              "      <td>...</td>\n",
              "      <td>0</td>\n",
              "      <td>0</td>\n",
              "      <td>0</td>\n",
              "      <td>0</td>\n",
              "      <td>145.0</td>\n",
              "      <td>1.7</td>\n",
              "      <td>19.0</td>\n",
              "      <td>1.13</td>\n",
              "      <td>17.0</td>\n",
              "      <td>0.0</td>\n",
              "    </tr>\n",
              "    <tr>\n",
              "      <th>2</th>\n",
              "      <td>2</td>\n",
              "      <td>0</td>\n",
              "      <td>24</td>\n",
              "      <td>1.0</td>\n",
              "      <td>0</td>\n",
              "      <td>0</td>\n",
              "      <td>0</td>\n",
              "      <td>0</td>\n",
              "      <td>0</td>\n",
              "      <td>0</td>\n",
              "      <td>...</td>\n",
              "      <td>0</td>\n",
              "      <td>0</td>\n",
              "      <td>0</td>\n",
              "      <td>0</td>\n",
              "      <td>0.0</td>\n",
              "      <td>0.2</td>\n",
              "      <td>4.0</td>\n",
              "      <td>1.00</td>\n",
              "      <td>0.0</td>\n",
              "      <td>0.0</td>\n",
              "    </tr>\n",
              "  </tbody>\n",
              "</table>\n",
              "<p>3 rows × 21 columns</p>\n",
              "</div>\n",
              "      <button class=\"colab-df-convert\" onclick=\"convertToInteractive('df-ad650fd9-7c66-4755-8568-aa7de2fbde12')\"\n",
              "              title=\"Convert this dataframe to an interactive table.\"\n",
              "              style=\"display:none;\">\n",
              "        \n",
              "  <svg xmlns=\"http://www.w3.org/2000/svg\" height=\"24px\"viewBox=\"0 0 24 24\"\n",
              "       width=\"24px\">\n",
              "    <path d=\"M0 0h24v24H0V0z\" fill=\"none\"/>\n",
              "    <path d=\"M18.56 5.44l.94 2.06.94-2.06 2.06-.94-2.06-.94-.94-2.06-.94 2.06-2.06.94zm-11 1L8.5 8.5l.94-2.06 2.06-.94-2.06-.94L8.5 2.5l-.94 2.06-2.06.94zm10 10l.94 2.06.94-2.06 2.06-.94-2.06-.94-.94-2.06-.94 2.06-2.06.94z\"/><path d=\"M17.41 7.96l-1.37-1.37c-.4-.4-.92-.59-1.43-.59-.52 0-1.04.2-1.43.59L10.3 9.45l-7.72 7.72c-.78.78-.78 2.05 0 2.83L4 21.41c.39.39.9.59 1.41.59.51 0 1.02-.2 1.41-.59l7.78-7.78 2.81-2.81c.8-.78.8-2.07 0-2.86zM5.41 20L4 18.59l7.72-7.72 1.47 1.35L5.41 20z\"/>\n",
              "  </svg>\n",
              "      </button>\n",
              "      \n",
              "  <style>\n",
              "    .colab-df-container {\n",
              "      display:flex;\n",
              "      flex-wrap:wrap;\n",
              "      gap: 12px;\n",
              "    }\n",
              "\n",
              "    .colab-df-convert {\n",
              "      background-color: #E8F0FE;\n",
              "      border: none;\n",
              "      border-radius: 50%;\n",
              "      cursor: pointer;\n",
              "      display: none;\n",
              "      fill: #1967D2;\n",
              "      height: 32px;\n",
              "      padding: 0 0 0 0;\n",
              "      width: 32px;\n",
              "    }\n",
              "\n",
              "    .colab-df-convert:hover {\n",
              "      background-color: #E2EBFA;\n",
              "      box-shadow: 0px 1px 2px rgba(60, 64, 67, 0.3), 0px 1px 3px 1px rgba(60, 64, 67, 0.15);\n",
              "      fill: #174EA6;\n",
              "    }\n",
              "\n",
              "    [theme=dark] .colab-df-convert {\n",
              "      background-color: #3B4455;\n",
              "      fill: #D2E3FC;\n",
              "    }\n",
              "\n",
              "    [theme=dark] .colab-df-convert:hover {\n",
              "      background-color: #434B5C;\n",
              "      box-shadow: 0px 1px 3px 1px rgba(0, 0, 0, 0.15);\n",
              "      filter: drop-shadow(0px 1px 2px rgba(0, 0, 0, 0.3));\n",
              "      fill: #FFFFFF;\n",
              "    }\n",
              "  </style>\n",
              "\n",
              "      <script>\n",
              "        const buttonEl =\n",
              "          document.querySelector('#df-ad650fd9-7c66-4755-8568-aa7de2fbde12 button.colab-df-convert');\n",
              "        buttonEl.style.display =\n",
              "          google.colab.kernel.accessAllowed ? 'block' : 'none';\n",
              "\n",
              "        async function convertToInteractive(key) {\n",
              "          const element = document.querySelector('#df-ad650fd9-7c66-4755-8568-aa7de2fbde12');\n",
              "          const dataTable =\n",
              "            await google.colab.kernel.invokeFunction('convertToInteractive',\n",
              "                                                     [key], {});\n",
              "          if (!dataTable) return;\n",
              "\n",
              "          const docLinkHtml = 'Like what you see? Visit the ' +\n",
              "            '<a target=\"_blank\" href=https://colab.research.google.com/notebooks/data_table.ipynb>data table notebook</a>'\n",
              "            + ' to learn more about interactive tables.';\n",
              "          element.innerHTML = '';\n",
              "          dataTable['output_type'] = 'display_data';\n",
              "          await google.colab.output.renderOutput(dataTable, element);\n",
              "          const docLink = document.createElement('div');\n",
              "          docLink.innerHTML = docLinkHtml;\n",
              "          element.appendChild(docLink);\n",
              "        }\n",
              "      </script>\n",
              "    </div>\n",
              "  </div>\n",
              "  "
            ]
          },
          "metadata": {},
          "execution_count": 8
        }
      ]
    },
    {
      "cell_type": "code",
      "source": [
        "# checking for null values\n",
        "\n",
        "thyroid.isnull().sum()\n",
        "\n",
        "# the conversion of the sex column has caused the presence of null values"
      ],
      "metadata": {
        "colab": {
          "base_uri": "https://localhost:8080/"
        },
        "id": "VDdbiNDbM9q6",
        "outputId": "55b8619e-50ed-451f-e285-5349fb13b5e4"
      },
      "execution_count": 9,
      "outputs": [
        {
          "output_type": "execute_result",
          "data": {
            "text/plain": [
              "Unnamed: 0                    0\n",
              "status                        0\n",
              "age                           0\n",
              "sex                          73\n",
              "on_thyroxine                  0\n",
              "query_on_thyroxine            0\n",
              "on_antithyroid_medication     0\n",
              "thyroid_surgery               0\n",
              "query_hypothyroid             0\n",
              "query_hyperthyroid            0\n",
              "pregnant                      0\n",
              "sick                          0\n",
              "tumor                         0\n",
              "lithium                       0\n",
              "goitre                        0\n",
              "TSH                           0\n",
              "T3                            0\n",
              "TT4                           0\n",
              "T4U                           0\n",
              "FTI                           0\n",
              "TBG                           0\n",
              "dtype: int64"
            ]
          },
          "metadata": {},
          "execution_count": 9
        }
      ]
    },
    {
      "cell_type": "code",
      "source": [
        "# Dropping the sex column \n",
        "\n",
        "thyroid = thyroid.drop(columns=['sex'])"
      ],
      "metadata": {
        "id": "RgWfuCFqM_nJ"
      },
      "execution_count": 10,
      "outputs": []
    },
    {
      "cell_type": "code",
      "source": [
        "# splitting dataset into features/indepedent and target/label variable\n",
        "#\n",
        "hyp = thyroid.drop('status', axis=1)\n",
        "y = thyroid['status']\n",
        "\n",
        "#importing sklearn PCA library\n",
        "from sklearn.decomposition import PCA\n",
        "#\n",
        "#Applying the reduction algorithm: PCA to feature variables.\n",
        "pca = PCA(n_components=2).fit(hyp)\n",
        "X = pca.transform(hyp)\n",
        "X.shape"
      ],
      "metadata": {
        "colab": {
          "base_uri": "https://localhost:8080/"
        },
        "id": "JsGL3WWQNPhL",
        "outputId": "e2d3bdc5-c7bc-4e3f-f5a3-18f2fed509f1"
      },
      "execution_count": 11,
      "outputs": [
        {
          "output_type": "execute_result",
          "data": {
            "text/plain": [
              "(3086, 2)"
            ]
          },
          "metadata": {},
          "execution_count": 11
        }
      ]
    },
    {
      "cell_type": "markdown",
      "source": [
        "**Polynomial SVM**"
      ],
      "metadata": {
        "id": "Na1mk6TuN6Ii"
      }
    },
    {
      "cell_type": "code",
      "source": [
        "from sklearn.model_selection import train_test_split\n",
        "\n",
        "# Splitting datasset into training and test data.\n",
        "\n",
        "X_train, X_test, y_train, y_test = train_test_split(X, y, test_size = 0.2, random_state = 0)"
      ],
      "metadata": {
        "id": "neD_MJGXN7PN"
      },
      "execution_count": 12,
      "outputs": []
    },
    {
      "cell_type": "code",
      "source": [
        "# Building model\n",
        "\n",
        "svc = SVC(kernel = 'poly', C = 1, degree=3, gamma = 0.001)"
      ],
      "metadata": {
        "id": "SBUFLW6bOG7k"
      },
      "execution_count": 13,
      "outputs": []
    },
    {
      "cell_type": "code",
      "source": [
        "# Fitting the model: Polymomial function\n",
        "\n",
        "svc.fit(X_train, y_train)"
      ],
      "metadata": {
        "colab": {
          "base_uri": "https://localhost:8080/"
        },
        "id": "1Jbw1-emOMSR",
        "outputId": "28ba199a-929b-4605-a609-81c843fc96d8"
      },
      "execution_count": 14,
      "outputs": [
        {
          "output_type": "execute_result",
          "data": {
            "text/plain": [
              "SVC(C=1, gamma=0.001, kernel='poly')"
            ]
          },
          "metadata": {},
          "execution_count": 14
        }
      ]
    },
    {
      "cell_type": "code",
      "source": [
        "# Predicting the model\n",
        "\n",
        "y_pred_poly = svc.predict(X_test)"
      ],
      "metadata": {
        "id": "-l_xwvVqOUQP"
      },
      "execution_count": 15,
      "outputs": []
    },
    {
      "cell_type": "code",
      "source": [
        "# Confusion matrix\n",
        "\n",
        "from sklearn.metrics import confusion_matrix,accuracy_score\n",
        "\n",
        "print(confusion_matrix(y_test, y_pred_poly))"
      ],
      "metadata": {
        "colab": {
          "base_uri": "https://localhost:8080/"
        },
        "id": "Qfqgb67MOZLQ",
        "outputId": "b74033bf-4f6c-481f-cf55-56f154dcfb16"
      },
      "execution_count": 21,
      "outputs": [
        {
          "output_type": "stream",
          "name": "stdout",
          "text": [
            "[[ 25   0]\n",
            " [  1 592]]\n"
          ]
        }
      ]
    },
    {
      "cell_type": "code",
      "source": [
        "# evaluating the model accuracy\n",
        "\n",
        "import sklearn.metrics as metrics\n",
        "\n",
        "print(\"polyclassifier accuracy: \", metrics.accuracy_score(y_test, y_pred_poly))"
      ],
      "metadata": {
        "colab": {
          "base_uri": "https://localhost:8080/"
        },
        "id": "YveXTBKaOZmB",
        "outputId": "b5355b66-da72-4518-af68-4dc63151f931"
      },
      "execution_count": 22,
      "outputs": [
        {
          "output_type": "stream",
          "name": "stdout",
          "text": [
            "polyclassifier accuracy:  0.9983818770226537\n"
          ]
        }
      ]
    },
    {
      "cell_type": "markdown",
      "source": [
        "Our polyclassifier accuracy is 99.83% "
      ],
      "metadata": {
        "id": "PEpdZYhnQC3Z"
      }
    },
    {
      "cell_type": "markdown",
      "source": [
        "**Linear SVM**"
      ],
      "metadata": {
        "id": "b2ePB_x2QK18"
      }
    },
    {
      "cell_type": "code",
      "source": [
        "# Building model with linear kernel, c=1 and gamma =0.001\n",
        "\n",
        "svc = SVC(kernel = 'linear',  C = 1, degree=3, gamma = 0.001)"
      ],
      "metadata": {
        "id": "IDD0nYVQQTN_"
      },
      "execution_count": 23,
      "outputs": []
    },
    {
      "cell_type": "code",
      "source": [
        "# Fitting the model\n",
        "\n",
        "svc.fit(X_train, y_train)"
      ],
      "metadata": {
        "colab": {
          "base_uri": "https://localhost:8080/"
        },
        "id": "CbVlkkGoQb8z",
        "outputId": "b202776a-dcdb-4db7-ba4b-24c3e3f83f1b"
      },
      "execution_count": 24,
      "outputs": [
        {
          "output_type": "execute_result",
          "data": {
            "text/plain": [
              "SVC(C=1, gamma=0.001, kernel='linear')"
            ]
          },
          "metadata": {},
          "execution_count": 24
        }
      ]
    },
    {
      "cell_type": "code",
      "source": [
        "# Predicting the model\n",
        "\n",
        "y_pred_linear = svc.predict(X_test)"
      ],
      "metadata": {
        "id": "rQeNRAP9QeKR"
      },
      "execution_count": 25,
      "outputs": []
    },
    {
      "cell_type": "code",
      "source": [
        "# The confusion matrix\n",
        "\n",
        "print(confusion_matrix(y_test, y_pred_linear))"
      ],
      "metadata": {
        "colab": {
          "base_uri": "https://localhost:8080/"
        },
        "id": "jm7aPw7QQxVs",
        "outputId": "4ba953e1-928d-4fc2-bb2a-909efd8bbc07"
      },
      "execution_count": 26,
      "outputs": [
        {
          "output_type": "stream",
          "name": "stdout",
          "text": [
            "[[ 25   0]\n",
            " [  0 593]]\n"
          ]
        }
      ]
    },
    {
      "cell_type": "code",
      "source": [
        "# Evaluating the model accuracy\n",
        "\n",
        "import sklearn.metrics as metrics\n",
        "\n",
        "print(\"linear SMV Accuracy: \", metrics.accuracy_score(y_test, y_pred_linear))"
      ],
      "metadata": {
        "colab": {
          "base_uri": "https://localhost:8080/"
        },
        "id": "hZaJlF4QQ58k",
        "outputId": "03fa7e7e-85f1-4e17-f240-c6a9d48560f3"
      },
      "execution_count": 33,
      "outputs": [
        {
          "output_type": "stream",
          "name": "stdout",
          "text": [
            "linear SMV Accuracy:  1.0\n"
          ]
        }
      ]
    },
    {
      "cell_type": "markdown",
      "source": [
        "Our linear SMV has 100% accuracy"
      ],
      "metadata": {
        "id": "Pad2AiTrRC4f"
      }
    },
    {
      "cell_type": "markdown",
      "source": [
        "**Radial basis function**"
      ],
      "metadata": {
        "id": "7E4Ji2D6RJ0q"
      }
    },
    {
      "cell_type": "code",
      "source": [
        "# Building the model\n",
        "\n",
        "svc = SVC(kernel = 'rbf', C = 1, degree=3, gamma = 0.001)"
      ],
      "metadata": {
        "id": "emKRP1adRO3f"
      },
      "execution_count": 28,
      "outputs": []
    },
    {
      "cell_type": "code",
      "source": [
        "# Fitting the model\n",
        "\n",
        "svc.fit(X_train, y_train)"
      ],
      "metadata": {
        "colab": {
          "base_uri": "https://localhost:8080/"
        },
        "id": "5TyE_TqxRTeP",
        "outputId": "8ceeaaca-5964-412b-e76b-5fca5d655dc7"
      },
      "execution_count": 29,
      "outputs": [
        {
          "output_type": "execute_result",
          "data": {
            "text/plain": [
              "SVC(C=1, gamma=0.001)"
            ]
          },
          "metadata": {},
          "execution_count": 29
        }
      ]
    },
    {
      "cell_type": "code",
      "source": [
        "# Predicting the model\n",
        "\n",
        "y_pred_rbf = svc.predict(X_test)"
      ],
      "metadata": {
        "id": "7bog9bx3RYK3"
      },
      "execution_count": 30,
      "outputs": []
    },
    {
      "cell_type": "code",
      "source": [
        "# Confusion matrix\n",
        "\n",
        "print(confusion_matrix(y_test, y_pred_rbf))"
      ],
      "metadata": {
        "colab": {
          "base_uri": "https://localhost:8080/"
        },
        "id": "5vCDYZEyRfuo",
        "outputId": "ace5b2dc-7905-4116-ac9c-2ac5d413ec9b"
      },
      "execution_count": 31,
      "outputs": [
        {
          "output_type": "stream",
          "name": "stdout",
          "text": [
            "[[ 25   0]\n",
            " [  0 593]]\n"
          ]
        }
      ]
    },
    {
      "cell_type": "code",
      "source": [
        "# Evaluating the model accuracy\n",
        "\n",
        "from sklearn.metrics import accuracy_score \n",
        "\n",
        "print(\" RBF Accuracy: \", metrics.accuracy_score(y_test, y_pred_rbf))"
      ],
      "metadata": {
        "colab": {
          "base_uri": "https://localhost:8080/"
        },
        "id": "fuIORaUbRln3",
        "outputId": "5068e0ec-d0f5-40a8-e04c-92f658e6e6ec"
      },
      "execution_count": 34,
      "outputs": [
        {
          "output_type": "stream",
          "name": "stdout",
          "text": [
            " RBF Accuracy:  1.0\n"
          ]
        }
      ]
    },
    {
      "cell_type": "markdown",
      "source": [
        "Our RBF model has 100% accuracy"
      ],
      "metadata": {
        "id": "4Ikmh1UdSBir"
      }
    },
    {
      "cell_type": "markdown",
      "source": [
        "## Conclusion"
      ],
      "metadata": {
        "id": "Ml3U6X-ETCOe"
      }
    },
    {
      "cell_type": "markdown",
      "source": [
        "All models perfromed well with RBF and linear SMV with 100%. The model is recommended to be used to make the predictions if a patient has hypothyroid or not."
      ],
      "metadata": {
        "id": "wpLfwJ08TJBe"
      }
    }
  ]
}